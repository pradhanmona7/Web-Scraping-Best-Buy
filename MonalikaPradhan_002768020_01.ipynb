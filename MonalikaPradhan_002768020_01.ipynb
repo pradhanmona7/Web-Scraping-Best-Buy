{
  "nbformat": 4,
  "nbformat_minor": 0,
  "metadata": {
    "colab": {
      "provenance": []
    },
    "kernelspec": {
      "name": "python3",
      "display_name": "Python 3"
    },
    "language_info": {
      "name": "python"
    }
  },
  "cells": [
    {
      "cell_type": "code",
      "execution_count": 39,
      "metadata": {
        "colab": {
          "base_uri": "https://localhost:8080/"
        },
        "id": "ZiGZKIybDXmC",
        "outputId": "1f65c173-42ee-4174-c8d6-75b9d0a92c56"
      },
      "outputs": [
        {
          "output_type": "stream",
          "name": "stdout",
          "text": [
            "Requirement already satisfied: bs4 in /usr/local/lib/python3.10/dist-packages (0.0.1)\n",
            "Requirement already satisfied: beautifulsoup4 in /usr/local/lib/python3.10/dist-packages (from bs4) (4.11.2)\n",
            "Requirement already satisfied: soupsieve>1.2 in /usr/local/lib/python3.10/dist-packages (from beautifulsoup4->bs4) (2.5)\n"
          ]
        }
      ],
      "source": [
        "!pip install bs4\n"
      ]
    },
    {
      "cell_type": "code",
      "source": [
        "!pip install requests\n"
      ],
      "metadata": {
        "colab": {
          "base_uri": "https://localhost:8080/"
        },
        "id": "4HxTI-x4F-lH",
        "outputId": "8b8df5da-f259-401a-edfb-7fda1d98c1a2"
      },
      "execution_count": 40,
      "outputs": [
        {
          "output_type": "stream",
          "name": "stdout",
          "text": [
            "Requirement already satisfied: requests in /usr/local/lib/python3.10/dist-packages (2.31.0)\n",
            "Requirement already satisfied: charset-normalizer<4,>=2 in /usr/local/lib/python3.10/dist-packages (from requests) (3.2.0)\n",
            "Requirement already satisfied: idna<4,>=2.5 in /usr/local/lib/python3.10/dist-packages (from requests) (3.4)\n",
            "Requirement already satisfied: urllib3<3,>=1.21.1 in /usr/local/lib/python3.10/dist-packages (from requests) (2.0.4)\n",
            "Requirement already satisfied: certifi>=2017.4.17 in /usr/local/lib/python3.10/dist-packages (from requests) (2023.7.22)\n"
          ]
        }
      ]
    },
    {
      "cell_type": "code",
      "source": [
        "from bs4 import BeautifulSoup\n",
        "import requests\n",
        "import pandas as pd\n"
      ],
      "metadata": {
        "id": "E-9F4uzbGJCI"
      },
      "execution_count": 41,
      "outputs": []
    },
    {
      "cell_type": "markdown",
      "source": [
        "## I have decided to go with the BestBuy Website and scrap the data as it has lots for categories of product to choose\n",
        "## About BestBuy\n",
        "Best Buy is a multinational consumer electronics retailer headquartered in the United States, known for selling a wide range of electronics, appliances, and entertainment products both in physical stores and online."
      ],
      "metadata": {
        "id": "nqDLd6PiCJRM"
      }
    },
    {
      "cell_type": "markdown",
      "source": [
        "## Extracting for a Single Product on the Page"
      ],
      "metadata": {
        "id": "Xr8WixCXdCQd"
      }
    },
    {
      "cell_type": "code",
      "source": [
        "# passing the URL\n",
        "URL = \"https://www.bestbuy.com/site/searchpage.jsp?st=tables&_dyncharset=UTF-8&_dynSessConf=&id=pcat17071&type=page&sc=Global&cp=1&nrp=&sp=&qp=&list=n&af=true&iht=y&usc=All+Categories&ks=960&keys=keys\""
      ],
      "metadata": {
        "id": "42a6OEgLrtfV"
      },
      "execution_count": 42,
      "outputs": []
    },
    {
      "cell_type": "code",
      "source": [
        "#Setting up headers\n",
        "HEADERS = ({'User-Agent': 'Mozilla/5.0 (Macintosh; Intel Mac OS X 10_15_7) AppleWebKit/537.36 (KHTML, like Gecko) Chrome/116.0.0.0 Safari/537.36', 'Accept-Language': 'en-US,en;q=0.5'})"
      ],
      "metadata": {
        "id": "laM3qA6MIN8u"
      },
      "execution_count": 43,
      "outputs": []
    },
    {
      "cell_type": "code",
      "source": [
        "# Sending an HTTP GET request to the specified URL\n",
        "webpage = requests.get(URL, headers=HEADERS)"
      ],
      "metadata": {
        "id": "yjMKP-0FI_Ie"
      },
      "execution_count": 44,
      "outputs": []
    },
    {
      "cell_type": "code",
      "source": [
        "# Return type of webpage\n",
        "type(webpage.content)"
      ],
      "metadata": {
        "colab": {
          "base_uri": "https://localhost:8080/"
        },
        "id": "c0qxAoDoJU97",
        "outputId": "16f9baf5-66ff-4914-e0d3-8be9cf22c2e7"
      },
      "execution_count": 45,
      "outputs": [
        {
          "output_type": "execute_result",
          "data": {
            "text/plain": [
              "bytes"
            ]
          },
          "metadata": {},
          "execution_count": 45
        }
      ]
    },
    {
      "cell_type": "code",
      "source": [
        "# Using the BeautifulSoup library to parse the raw HTML content of a web page\n",
        "soup = BeautifulSoup(webpage.content, \"html.parser\")"
      ],
      "metadata": {
        "id": "7H2-a9UHJ4T5"
      },
      "execution_count": 46,
      "outputs": []
    },
    {
      "cell_type": "code",
      "source": [
        "# finds and stores all HTML <h4> elements with the attribute class set to 'sku-title' from the parsed web page content\n",
        "links = soup.findAll(\"h4\",attrs={'class':'sku-title'})"
      ],
      "metadata": {
        "id": "9oGh_rQ0J4LP"
      },
      "execution_count": 47,
      "outputs": []
    },
    {
      "cell_type": "code",
      "source": [
        "# extracts the href attribute value of the first anchor (<a>) element found within the links[0] element\n",
        "link = links[0].find('a').get('href')"
      ],
      "metadata": {
        "id": "otgF_1MDmk2L"
      },
      "execution_count": 48,
      "outputs": []
    },
    {
      "cell_type": "code",
      "source": [
        "link"
      ],
      "metadata": {
        "colab": {
          "base_uri": "https://localhost:8080/",
          "height": 35
        },
        "id": "BeEUID1M3l_v",
        "outputId": "7af30ff4-8756-4ed3-e14a-3975333e2de1"
      },
      "execution_count": 49,
      "outputs": [
        {
          "output_type": "execute_result",
          "data": {
            "text/plain": [
              "'/site/true-seating-ergo-electric-height-adjustable-standing-desk-white/6444085.p?skuId=6444085'"
            ],
            "application/vnd.google.colaboratory.intrinsic+json": {
              "type": "string"
            }
          },
          "metadata": {},
          "execution_count": 49
        }
      ]
    },
    {
      "cell_type": "code",
      "source": [
        "product_list = \"https://www.bestbuy.com/\" + link"
      ],
      "metadata": {
        "id": "24XHRkNhniCj"
      },
      "execution_count": 50,
      "outputs": []
    },
    {
      "cell_type": "code",
      "source": [
        "product_list"
      ],
      "metadata": {
        "colab": {
          "base_uri": "https://localhost:8080/",
          "height": 35
        },
        "id": "mUv39hSdnoy-",
        "outputId": "c09ae1bd-6c89-4c06-a5f8-d1820da62d8a"
      },
      "execution_count": 51,
      "outputs": [
        {
          "output_type": "execute_result",
          "data": {
            "text/plain": [
              "'https://www.bestbuy.com//site/true-seating-ergo-electric-height-adjustable-standing-desk-white/6444085.p?skuId=6444085'"
            ],
            "application/vnd.google.colaboratory.intrinsic+json": {
              "type": "string"
            }
          },
          "metadata": {},
          "execution_count": 51
        }
      ]
    },
    {
      "cell_type": "code",
      "source": [
        "new_webpage = requests.get(product_list, headers=HEADERS)"
      ],
      "metadata": {
        "id": "fcaDxASCn3qO"
      },
      "execution_count": 52,
      "outputs": []
    },
    {
      "cell_type": "code",
      "source": [
        "new_webpage"
      ],
      "metadata": {
        "colab": {
          "base_uri": "https://localhost:8080/"
        },
        "id": "JSf8VnwCn8Mt",
        "outputId": "8788a734-1d78-4a74-ad99-e91413bb0669"
      },
      "execution_count": 53,
      "outputs": [
        {
          "output_type": "execute_result",
          "data": {
            "text/plain": [
              "<Response [200]>"
            ]
          },
          "metadata": {},
          "execution_count": 53
        }
      ]
    },
    {
      "cell_type": "code",
      "source": [
        "new_soup = BeautifulSoup(new_webpage.content, \"html.parser\")"
      ],
      "metadata": {
        "id": "S8O6H6F2oOvV"
      },
      "execution_count": 54,
      "outputs": []
    },
    {
      "cell_type": "code",
      "source": [
        "#searching heading or title of the product on the web page\n",
        "new_soup.find(\"h1\", attrs={\"class\":'heading-5 v-fw-regular'}).text.strip()"
      ],
      "metadata": {
        "colab": {
          "base_uri": "https://localhost:8080/",
          "height": 35
        },
        "id": "IHSI_fB2o74h",
        "outputId": "60508c32-c175-4679-9fe7-2ca66fecec7a"
      },
      "execution_count": 55,
      "outputs": [
        {
          "output_type": "execute_result",
          "data": {
            "text/plain": [
              "'True Seating - Ergo Electric Height Adjustable Standing Desk - White'"
            ],
            "application/vnd.google.colaboratory.intrinsic+json": {
              "type": "string"
            }
          },
          "metadata": {},
          "execution_count": 55
        }
      ]
    },
    {
      "cell_type": "code",
      "source": [
        "#searching Price of the product on the web page\n",
        "new_soup.find(\"div\", attrs={\"class\":'priceView-hero-price priceView-customer-price'}).find('span').text"
      ],
      "metadata": {
        "colab": {
          "base_uri": "https://localhost:8080/",
          "height": 35
        },
        "id": "pC-WSU-T6wtv",
        "outputId": "307766a2-6393-42f3-d3e3-91f26dd1f878"
      },
      "execution_count": 56,
      "outputs": [
        {
          "output_type": "execute_result",
          "data": {
            "text/plain": [
              "'$369.99'"
            ],
            "application/vnd.google.colaboratory.intrinsic+json": {
              "type": "string"
            }
          },
          "metadata": {},
          "execution_count": 56
        }
      ]
    },
    {
      "cell_type": "code",
      "source": [
        "#searching rating and review of the product on the web page\n",
        "new_soup.find(\"div\", attrs={\"class\":'c-ratings-reviews flex c-ratings-reviews-small align-items-center gap-50 ugc-ratings-reviews flex-wrap small-gaps text-center'}).find('p').text"
      ],
      "metadata": {
        "colab": {
          "base_uri": "https://localhost:8080/",
          "height": 35
        },
        "id": "o5MFzJH17y4G",
        "outputId": "bd6dd292-fc53-437d-a163-3034a24c264f"
      },
      "execution_count": 57,
      "outputs": [
        {
          "output_type": "execute_result",
          "data": {
            "text/plain": [
              "'User rating, 4.2 out of 5 stars with 5 reviews.'"
            ],
            "application/vnd.google.colaboratory.intrinsic+json": {
              "type": "string"
            }
          },
          "metadata": {},
          "execution_count": 57
        }
      ]
    },
    {
      "cell_type": "markdown",
      "source": [
        "##For Multiple Products on a page\n"
      ],
      "metadata": {
        "id": "YvkvDLDaADvL"
      }
    },
    {
      "cell_type": "code",
      "source": [
        "import numpy as np"
      ],
      "metadata": {
        "id": "oOXyoEUeAJv0"
      },
      "execution_count": 59,
      "outputs": []
    },
    {
      "cell_type": "code",
      "source": [
        "# Function to extract Product Title\n",
        "def get_title(soup):\n",
        "\n",
        "    try:\n",
        "        # Outer Tag Object\n",
        "        title = soup.find(\"h1\", attrs={\"class\":'heading-5 v-fw-regular'})\n",
        "\n",
        "        # Inner NavigatableString Object\n",
        "        title_value = title.text\n",
        "\n",
        "        # Title as a string value\n",
        "        title_string = title_value.strip()\n",
        "\n",
        "    except AttributeError:\n",
        "        title_string = \"\"\n",
        "\n",
        "    return title_string\n",
        "\n"
      ],
      "metadata": {
        "id": "uLLD4WNMAMWA"
      },
      "execution_count": 60,
      "outputs": []
    },
    {
      "cell_type": "code",
      "source": [
        "# Function to extract Product Price\n",
        "def get_price(soup):\n",
        "\n",
        "    try:\n",
        "        price = soup.find(\"div\", attrs={\"class\":'priceView-hero-price priceView-customer-price'}).find('span').text\n",
        "\n",
        "    except AttributeError:\n",
        "            price = \"\"\n",
        "\n",
        "    return price\n",
        "\n"
      ],
      "metadata": {
        "id": "Jpy4Qh-vA0iI"
      },
      "execution_count": 61,
      "outputs": []
    },
    {
      "cell_type": "code",
      "source": [
        "# Function to extract Product Rating\n",
        "def get_rating(soup):\n",
        "\n",
        "    try:\n",
        "        rating = soup.find(\"div\", attrs={\"class\":'c-ratings-reviews flex c-ratings-reviews-small align-items-center gap-50 ugc-ratings-reviews flex-wrap small-gaps text-center'}).find('p').text\n",
        "\n",
        "    except AttributeError:\n",
        "        rating = \"\"\n",
        "\n",
        "    return rating"
      ],
      "metadata": {
        "id": "TEYxfVueA2LB"
      },
      "execution_count": 62,
      "outputs": []
    },
    {
      "cell_type": "code",
      "source": [
        "if __name__ == '__main__':\n",
        "\n",
        "    # adding the user agent to identify the client, ensure compatibility, and reduce the risk of being blocked\n",
        "    HEADERS = ({'User-Agent': 'Mozilla/5.0 (Macintosh; Intel Mac OS X 10_15_7) AppleWebKit/537.36 (KHTML, like Gecko) Chrome/116.0.0.0 Safari/537.36', 'Accept-Language': 'en-US,en;q=0.5'})\n",
        "\n",
        "    # The URL of bestbuy webpage\n",
        "    URL = \"https://www.bestbuy.com/site/searchpage.jsp?st=tables&_dyncharset=UTF-8&_dynSessConf=&id=pcat17071&type=page&sc=Global&cp=1&nrp=&sp=&qp=&list=n&af=true&iht=y&usc=All+Categories&ks=960&keys=keys\"\n",
        "\n",
        "    # sending HTTP Request to the bestbuy URL\n",
        "    webpage = requests.get(URL, headers=HEADERS)\n",
        "\n",
        "    # Soup Object containing all data\n",
        "    soup = BeautifulSoup(webpage.content, \"html.parser\")\n",
        "\n",
        "    # Fetch links as List of Tag Objects\n",
        "    links = soup.findAll(\"h4\",attrs={'class':'sku-title'})\n",
        "\n",
        "    # Store the links\n",
        "    links_list = []\n",
        "\n",
        "    # Loop for extracting links from Tag Objects\n",
        "    for link in links:\n",
        "            links_list.append(link.find('a').get('href'))\n",
        "\n",
        "    d = {\"title\":[], \"price\":[], \"rating\":[]}\n",
        "\n",
        "    # Loop for extracting product details from each link\n",
        "    for link in links_list:\n",
        "        new_webpage = requests.get(\"https://www.bestbuy.com/\" + link, headers=HEADERS)\n",
        "\n",
        "        new_soup = BeautifulSoup(new_webpage.content, \"html.parser\")\n",
        "\n",
        "        # Function calls to display all necessary product information\n",
        "        d['title'].append(get_title(new_soup))\n",
        "        d['price'].append(get_price(new_soup))\n",
        "        d['rating'].append(get_rating(new_soup))\n",
        "\n",
        "\n",
        "    bestbuy_df = pd.DataFrame.from_dict(d)\n",
        "    bestbuy_df['title'].replace('', np.nan, inplace=True)\n",
        "    bestbuy_df = bestbuy_df.dropna(subset=['title'])\n",
        "    #Writing it out as a csv\n",
        "    bestbuy_df.to_csv(\"bestbuy_data.csv\", header=True, index=False)\n"
      ],
      "metadata": {
        "id": "sefkJ7onANIm"
      },
      "execution_count": 63,
      "outputs": []
    },
    {
      "cell_type": "code",
      "source": [
        "bestbuy_df\n"
      ],
      "metadata": {
        "colab": {
          "base_uri": "https://localhost:8080/",
          "height": 614
        },
        "id": "VqLZcvv0AR69",
        "outputId": "de246aa8-2dd6-4a9f-9241-f1b3003d703d"
      },
      "execution_count": 64,
      "outputs": [
        {
          "output_type": "execute_result",
          "data": {
            "text/plain": [
              "                                                title      price  \\\n",
              "0   True Seating - Ergo Electric Height Adjustable...    $369.99   \n",
              "1   Walker Edison - Industrial Modern End / Side T...     $46.99   \n",
              "2   Sauder - Cottage Road Storage Coffee Table - B...    $270.99   \n",
              "3   Aluratek - Adjustable Ergonomic Laptop Cooling...     $49.99   \n",
              "4    X Rocker - Ocelot Gaming Desk - Black, Red, Blue    $139.99   \n",
              "5                      WorkSmart - Resin Table - Gray     $65.99   \n",
              "6           SD Gaming - Overlord Curved Table - Black    $158.99   \n",
              "7   Walker Edison - Huntsman Wood Dining Table - B...    $460.99   \n",
              "8   Walker Edison - Round Rustic Coffee Table - Sl...     $96.99   \n",
              "9   Walker Edison - 72\" Rectangular Solid Pine Woo...    $419.99   \n",
              "10         Simpli Home - Hayward Side Table - Natural    $149.99   \n",
              "11  Walker Edison - 48\" Wood Modern Coffee Table -...    $158.99   \n",
              "12  Walker Edison - Coffee Table with wicker stora...     $97.99   \n",
              "13  Camden&Wells - Winston Round Coffee Table - Bl...    $198.99   \n",
              "14  Serta - Harton Rustic Expandable C Side Table ...     $69.99   \n",
              "15  Walker Edison - Rectangular Farmhouse Wood Din...  $1,249.99   \n",
              "16  Walker Edison - Modern Rectangle End/Side Tabl...     $52.99   \n",
              "17  Walker Edison - Rectangular Farmhouse Wood Din...  $1,159.99   \n",
              "\n",
              "                                               rating  \n",
              "0     User rating, 4.2 out of 5 stars with 5 reviews.  \n",
              "1    User rating, 4.7 out of 5 stars with 27 reviews.  \n",
              "2       User rating, 5 out of 5 stars with 3 reviews.  \n",
              "3   User rating, 4.6 out of 5 stars with 639 reviews.  \n",
              "4    User rating, 4.8 out of 5 stars with 17 reviews.  \n",
              "5    User rating, 4.6 out of 5 stars with 12 reviews.  \n",
              "6    User rating, 4.8 out of 5 stars with 35 reviews.  \n",
              "7                      Be the first to write a review  \n",
              "8     User rating, 4.8 out of 5 stars with 6 reviews.  \n",
              "9     User rating, 4.3 out of 5 stars with 4 reviews.  \n",
              "10                     Be the first to write a review  \n",
              "11      User rating, 5 out of 5 stars with 2 reviews.  \n",
              "12    User rating, 4.6 out of 5 stars with 8 reviews.  \n",
              "13       User rating, 5 out of 5 stars with 1 review.  \n",
              "14       User rating, 5 out of 5 stars with 1 review.  \n",
              "15                     Be the first to write a review  \n",
              "16    User rating, 4.8 out of 5 stars with 4 reviews.  \n",
              "17                     Be the first to write a review  "
            ],
            "text/html": [
              "\n",
              "  <div id=\"df-2d724348-b32c-4cf2-81d3-dc1548393fe1\" class=\"colab-df-container\">\n",
              "    <div>\n",
              "<style scoped>\n",
              "    .dataframe tbody tr th:only-of-type {\n",
              "        vertical-align: middle;\n",
              "    }\n",
              "\n",
              "    .dataframe tbody tr th {\n",
              "        vertical-align: top;\n",
              "    }\n",
              "\n",
              "    .dataframe thead th {\n",
              "        text-align: right;\n",
              "    }\n",
              "</style>\n",
              "<table border=\"1\" class=\"dataframe\">\n",
              "  <thead>\n",
              "    <tr style=\"text-align: right;\">\n",
              "      <th></th>\n",
              "      <th>title</th>\n",
              "      <th>price</th>\n",
              "      <th>rating</th>\n",
              "    </tr>\n",
              "  </thead>\n",
              "  <tbody>\n",
              "    <tr>\n",
              "      <th>0</th>\n",
              "      <td>True Seating - Ergo Electric Height Adjustable...</td>\n",
              "      <td>$369.99</td>\n",
              "      <td>User rating, 4.2 out of 5 stars with 5 reviews.</td>\n",
              "    </tr>\n",
              "    <tr>\n",
              "      <th>1</th>\n",
              "      <td>Walker Edison - Industrial Modern End / Side T...</td>\n",
              "      <td>$46.99</td>\n",
              "      <td>User rating, 4.7 out of 5 stars with 27 reviews.</td>\n",
              "    </tr>\n",
              "    <tr>\n",
              "      <th>2</th>\n",
              "      <td>Sauder - Cottage Road Storage Coffee Table - B...</td>\n",
              "      <td>$270.99</td>\n",
              "      <td>User rating, 5 out of 5 stars with 3 reviews.</td>\n",
              "    </tr>\n",
              "    <tr>\n",
              "      <th>3</th>\n",
              "      <td>Aluratek - Adjustable Ergonomic Laptop Cooling...</td>\n",
              "      <td>$49.99</td>\n",
              "      <td>User rating, 4.6 out of 5 stars with 639 reviews.</td>\n",
              "    </tr>\n",
              "    <tr>\n",
              "      <th>4</th>\n",
              "      <td>X Rocker - Ocelot Gaming Desk - Black, Red, Blue</td>\n",
              "      <td>$139.99</td>\n",
              "      <td>User rating, 4.8 out of 5 stars with 17 reviews.</td>\n",
              "    </tr>\n",
              "    <tr>\n",
              "      <th>5</th>\n",
              "      <td>WorkSmart - Resin Table - Gray</td>\n",
              "      <td>$65.99</td>\n",
              "      <td>User rating, 4.6 out of 5 stars with 12 reviews.</td>\n",
              "    </tr>\n",
              "    <tr>\n",
              "      <th>6</th>\n",
              "      <td>SD Gaming - Overlord Curved Table - Black</td>\n",
              "      <td>$158.99</td>\n",
              "      <td>User rating, 4.8 out of 5 stars with 35 reviews.</td>\n",
              "    </tr>\n",
              "    <tr>\n",
              "      <th>7</th>\n",
              "      <td>Walker Edison - Huntsman Wood Dining Table - B...</td>\n",
              "      <td>$460.99</td>\n",
              "      <td>Be the first to write a review</td>\n",
              "    </tr>\n",
              "    <tr>\n",
              "      <th>8</th>\n",
              "      <td>Walker Edison - Round Rustic Coffee Table - Sl...</td>\n",
              "      <td>$96.99</td>\n",
              "      <td>User rating, 4.8 out of 5 stars with 6 reviews.</td>\n",
              "    </tr>\n",
              "    <tr>\n",
              "      <th>9</th>\n",
              "      <td>Walker Edison - 72\" Rectangular Solid Pine Woo...</td>\n",
              "      <td>$419.99</td>\n",
              "      <td>User rating, 4.3 out of 5 stars with 4 reviews.</td>\n",
              "    </tr>\n",
              "    <tr>\n",
              "      <th>10</th>\n",
              "      <td>Simpli Home - Hayward Side Table - Natural</td>\n",
              "      <td>$149.99</td>\n",
              "      <td>Be the first to write a review</td>\n",
              "    </tr>\n",
              "    <tr>\n",
              "      <th>11</th>\n",
              "      <td>Walker Edison - 48\" Wood Modern Coffee Table -...</td>\n",
              "      <td>$158.99</td>\n",
              "      <td>User rating, 5 out of 5 stars with 2 reviews.</td>\n",
              "    </tr>\n",
              "    <tr>\n",
              "      <th>12</th>\n",
              "      <td>Walker Edison - Coffee Table with wicker stora...</td>\n",
              "      <td>$97.99</td>\n",
              "      <td>User rating, 4.6 out of 5 stars with 8 reviews.</td>\n",
              "    </tr>\n",
              "    <tr>\n",
              "      <th>13</th>\n",
              "      <td>Camden&amp;Wells - Winston Round Coffee Table - Bl...</td>\n",
              "      <td>$198.99</td>\n",
              "      <td>User rating, 5 out of 5 stars with 1 review.</td>\n",
              "    </tr>\n",
              "    <tr>\n",
              "      <th>14</th>\n",
              "      <td>Serta - Harton Rustic Expandable C Side Table ...</td>\n",
              "      <td>$69.99</td>\n",
              "      <td>User rating, 5 out of 5 stars with 1 review.</td>\n",
              "    </tr>\n",
              "    <tr>\n",
              "      <th>15</th>\n",
              "      <td>Walker Edison - Rectangular Farmhouse Wood Din...</td>\n",
              "      <td>$1,249.99</td>\n",
              "      <td>Be the first to write a review</td>\n",
              "    </tr>\n",
              "    <tr>\n",
              "      <th>16</th>\n",
              "      <td>Walker Edison - Modern Rectangle End/Side Tabl...</td>\n",
              "      <td>$52.99</td>\n",
              "      <td>User rating, 4.8 out of 5 stars with 4 reviews.</td>\n",
              "    </tr>\n",
              "    <tr>\n",
              "      <th>17</th>\n",
              "      <td>Walker Edison - Rectangular Farmhouse Wood Din...</td>\n",
              "      <td>$1,159.99</td>\n",
              "      <td>Be the first to write a review</td>\n",
              "    </tr>\n",
              "  </tbody>\n",
              "</table>\n",
              "</div>\n",
              "    <div class=\"colab-df-buttons\">\n",
              "\n",
              "  <div class=\"colab-df-container\">\n",
              "    <button class=\"colab-df-convert\" onclick=\"convertToInteractive('df-2d724348-b32c-4cf2-81d3-dc1548393fe1')\"\n",
              "            title=\"Convert this dataframe to an interactive table.\"\n",
              "            style=\"display:none;\">\n",
              "\n",
              "  <svg xmlns=\"http://www.w3.org/2000/svg\" height=\"24px\" viewBox=\"0 -960 960 960\">\n",
              "    <path d=\"M120-120v-720h720v720H120Zm60-500h600v-160H180v160Zm220 220h160v-160H400v160Zm0 220h160v-160H400v160ZM180-400h160v-160H180v160Zm440 0h160v-160H620v160ZM180-180h160v-160H180v160Zm440 0h160v-160H620v160Z\"/>\n",
              "  </svg>\n",
              "    </button>\n",
              "\n",
              "  <style>\n",
              "    .colab-df-container {\n",
              "      display:flex;\n",
              "      gap: 12px;\n",
              "    }\n",
              "\n",
              "    .colab-df-convert {\n",
              "      background-color: #E8F0FE;\n",
              "      border: none;\n",
              "      border-radius: 50%;\n",
              "      cursor: pointer;\n",
              "      display: none;\n",
              "      fill: #1967D2;\n",
              "      height: 32px;\n",
              "      padding: 0 0 0 0;\n",
              "      width: 32px;\n",
              "    }\n",
              "\n",
              "    .colab-df-convert:hover {\n",
              "      background-color: #E2EBFA;\n",
              "      box-shadow: 0px 1px 2px rgba(60, 64, 67, 0.3), 0px 1px 3px 1px rgba(60, 64, 67, 0.15);\n",
              "      fill: #174EA6;\n",
              "    }\n",
              "\n",
              "    .colab-df-buttons div {\n",
              "      margin-bottom: 4px;\n",
              "    }\n",
              "\n",
              "    [theme=dark] .colab-df-convert {\n",
              "      background-color: #3B4455;\n",
              "      fill: #D2E3FC;\n",
              "    }\n",
              "\n",
              "    [theme=dark] .colab-df-convert:hover {\n",
              "      background-color: #434B5C;\n",
              "      box-shadow: 0px 1px 3px 1px rgba(0, 0, 0, 0.15);\n",
              "      filter: drop-shadow(0px 1px 2px rgba(0, 0, 0, 0.3));\n",
              "      fill: #FFFFFF;\n",
              "    }\n",
              "  </style>\n",
              "\n",
              "    <script>\n",
              "      const buttonEl =\n",
              "        document.querySelector('#df-2d724348-b32c-4cf2-81d3-dc1548393fe1 button.colab-df-convert');\n",
              "      buttonEl.style.display =\n",
              "        google.colab.kernel.accessAllowed ? 'block' : 'none';\n",
              "\n",
              "      async function convertToInteractive(key) {\n",
              "        const element = document.querySelector('#df-2d724348-b32c-4cf2-81d3-dc1548393fe1');\n",
              "        const dataTable =\n",
              "          await google.colab.kernel.invokeFunction('convertToInteractive',\n",
              "                                                    [key], {});\n",
              "        if (!dataTable) return;\n",
              "\n",
              "        const docLinkHtml = 'Like what you see? Visit the ' +\n",
              "          '<a target=\"_blank\" href=https://colab.research.google.com/notebooks/data_table.ipynb>data table notebook</a>'\n",
              "          + ' to learn more about interactive tables.';\n",
              "        element.innerHTML = '';\n",
              "        dataTable['output_type'] = 'display_data';\n",
              "        await google.colab.output.renderOutput(dataTable, element);\n",
              "        const docLink = document.createElement('div');\n",
              "        docLink.innerHTML = docLinkHtml;\n",
              "        element.appendChild(docLink);\n",
              "      }\n",
              "    </script>\n",
              "  </div>\n",
              "\n",
              "\n",
              "<div id=\"df-582068bd-bd1e-4996-96ac-7c740e64923b\">\n",
              "  <button class=\"colab-df-quickchart\" onclick=\"quickchart('df-582068bd-bd1e-4996-96ac-7c740e64923b')\"\n",
              "            title=\"Suggest charts.\"\n",
              "            style=\"display:none;\">\n",
              "\n",
              "<svg xmlns=\"http://www.w3.org/2000/svg\" height=\"24px\"viewBox=\"0 0 24 24\"\n",
              "     width=\"24px\">\n",
              "    <g>\n",
              "        <path d=\"M19 3H5c-1.1 0-2 .9-2 2v14c0 1.1.9 2 2 2h14c1.1 0 2-.9 2-2V5c0-1.1-.9-2-2-2zM9 17H7v-7h2v7zm4 0h-2V7h2v10zm4 0h-2v-4h2v4z\"/>\n",
              "    </g>\n",
              "</svg>\n",
              "  </button>\n",
              "\n",
              "<style>\n",
              "  .colab-df-quickchart {\n",
              "      --bg-color: #E8F0FE;\n",
              "      --fill-color: #1967D2;\n",
              "      --hover-bg-color: #E2EBFA;\n",
              "      --hover-fill-color: #174EA6;\n",
              "      --disabled-fill-color: #AAA;\n",
              "      --disabled-bg-color: #DDD;\n",
              "  }\n",
              "\n",
              "  [theme=dark] .colab-df-quickchart {\n",
              "      --bg-color: #3B4455;\n",
              "      --fill-color: #D2E3FC;\n",
              "      --hover-bg-color: #434B5C;\n",
              "      --hover-fill-color: #FFFFFF;\n",
              "      --disabled-bg-color: #3B4455;\n",
              "      --disabled-fill-color: #666;\n",
              "  }\n",
              "\n",
              "  .colab-df-quickchart {\n",
              "    background-color: var(--bg-color);\n",
              "    border: none;\n",
              "    border-radius: 50%;\n",
              "    cursor: pointer;\n",
              "    display: none;\n",
              "    fill: var(--fill-color);\n",
              "    height: 32px;\n",
              "    padding: 0;\n",
              "    width: 32px;\n",
              "  }\n",
              "\n",
              "  .colab-df-quickchart:hover {\n",
              "    background-color: var(--hover-bg-color);\n",
              "    box-shadow: 0 1px 2px rgba(60, 64, 67, 0.3), 0 1px 3px 1px rgba(60, 64, 67, 0.15);\n",
              "    fill: var(--button-hover-fill-color);\n",
              "  }\n",
              "\n",
              "  .colab-df-quickchart-complete:disabled,\n",
              "  .colab-df-quickchart-complete:disabled:hover {\n",
              "    background-color: var(--disabled-bg-color);\n",
              "    fill: var(--disabled-fill-color);\n",
              "    box-shadow: none;\n",
              "  }\n",
              "\n",
              "  .colab-df-spinner {\n",
              "    border: 2px solid var(--fill-color);\n",
              "    border-color: transparent;\n",
              "    border-bottom-color: var(--fill-color);\n",
              "    animation:\n",
              "      spin 1s steps(1) infinite;\n",
              "  }\n",
              "\n",
              "  @keyframes spin {\n",
              "    0% {\n",
              "      border-color: transparent;\n",
              "      border-bottom-color: var(--fill-color);\n",
              "      border-left-color: var(--fill-color);\n",
              "    }\n",
              "    20% {\n",
              "      border-color: transparent;\n",
              "      border-left-color: var(--fill-color);\n",
              "      border-top-color: var(--fill-color);\n",
              "    }\n",
              "    30% {\n",
              "      border-color: transparent;\n",
              "      border-left-color: var(--fill-color);\n",
              "      border-top-color: var(--fill-color);\n",
              "      border-right-color: var(--fill-color);\n",
              "    }\n",
              "    40% {\n",
              "      border-color: transparent;\n",
              "      border-right-color: var(--fill-color);\n",
              "      border-top-color: var(--fill-color);\n",
              "    }\n",
              "    60% {\n",
              "      border-color: transparent;\n",
              "      border-right-color: var(--fill-color);\n",
              "    }\n",
              "    80% {\n",
              "      border-color: transparent;\n",
              "      border-right-color: var(--fill-color);\n",
              "      border-bottom-color: var(--fill-color);\n",
              "    }\n",
              "    90% {\n",
              "      border-color: transparent;\n",
              "      border-bottom-color: var(--fill-color);\n",
              "    }\n",
              "  }\n",
              "</style>\n",
              "\n",
              "  <script>\n",
              "    async function quickchart(key) {\n",
              "      const quickchartButtonEl =\n",
              "        document.querySelector('#' + key + ' button');\n",
              "      quickchartButtonEl.disabled = true;  // To prevent multiple clicks.\n",
              "      quickchartButtonEl.classList.add('colab-df-spinner');\n",
              "      try {\n",
              "        const charts = await google.colab.kernel.invokeFunction(\n",
              "            'suggestCharts', [key], {});\n",
              "      } catch (error) {\n",
              "        console.error('Error during call to suggestCharts:', error);\n",
              "      }\n",
              "      quickchartButtonEl.classList.remove('colab-df-spinner');\n",
              "      quickchartButtonEl.classList.add('colab-df-quickchart-complete');\n",
              "    }\n",
              "    (() => {\n",
              "      let quickchartButtonEl =\n",
              "        document.querySelector('#df-582068bd-bd1e-4996-96ac-7c740e64923b button');\n",
              "      quickchartButtonEl.style.display =\n",
              "        google.colab.kernel.accessAllowed ? 'block' : 'none';\n",
              "    })();\n",
              "  </script>\n",
              "</div>\n",
              "    </div>\n",
              "  </div>\n"
            ]
          },
          "metadata": {},
          "execution_count": 64
        }
      ]
    }
  ]
}